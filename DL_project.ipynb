{
 "cells": [
  {
   "attachments": {},
   "cell_type": "markdown",
   "metadata": {},
   "source": [
    "```python\n",
    "Import library \n",
    "```"
   ]
  },
  {
   "cell_type": "code",
   "execution_count": null,
   "metadata": {},
   "outputs": [],
   "source": [
    "import csv\n",
    "import random\n",
    "import spacy"
   ]
  },
  {
   "cell_type": "code",
   "execution_count": null,
   "metadata": {},
   "outputs": [],
   "source": [
    "nlp = spacy.load(\"en_core_web_sm\")"
   ]
  },
  {
   "cell_type": "code",
   "execution_count": null,
   "metadata": {},
   "outputs": [],
   "source": [
    "interview_questions = [\n",
    "    (\"Tell me about your experience with web development.\", \"I have worked on several web development projects using HTML, CSS, and JavaScript. I am proficient in front-end frameworks like React and have experience with back-end technologies such as Node.js and Express.\"),\n",
    "    (\"What is your approach to building responsive web designs?\", \"When building responsive web designs, I follow a mobile-first approach. I use CSS media queries and responsive frameworks like Bootstrap to ensure that the website adapts well to different screen sizes and devices.\"),\n",
    "    (\"How do you optimize a website's performance?\", \"To optimize a website's performance, I employ techniques like minification and compression of CSS and JavaScript files, caching, and optimizing image sizes. I also analyze the website's performance using tools like Lighthouse or GTmetrix.\"),\n",
    "    (\"Have you worked with any content management systems (CMS)? If so, which ones?\", \"Yes, I have experience working with popular CMS like WordPress and Drupal. I am familiar with customizing themes, creating custom plugins/modules, and managing content.\"),\n",
    "    (\"What version control systems are you familiar with?\", \"I am familiar with Git and have used it extensively for version control in my projects. I am comfortable with common Git operations like branching, merging, and resolving conflicts.\"),\n",
    "    (\"Can you explain the concept of RESTful APIs?\", \"RESTful APIs (Representational State Transfer) are a set of architectural principles for designing networked applications. They use standard HTTP methods (GET, POST, PUT, DELETE) to perform CRUD (Create, Read, Update, Delete) operations on resources.\"),\n",
    "    (\"Tell me about a challenging project you worked on and how you overcame it.\", \"In a previous project, I had to optimize the performance of a large e-commerce website. I identified and fixed database query bottlenecks, implemented caching mechanisms, and optimized front-end assets. This resulted in significant improvements in page load times.\"),\n",
    "    (\"How do you ensure cross-browser compatibility in your web development projects?\", \"I perform thorough testing using different browsers like Chrome, Firefox, Safari, and Edge. I use CSS prefixes and polyfills for compatibility with older browsers. I also leverage feature detection techniques and apply progressive enhancement principles.\"),\n",
    "    (\"Have you used any CSS preprocessors like Sass or Less?\", \"Yes, I have experience using Sass. I find it helpful for writing modular and maintainable CSS code. I leverage features like variables, nesting, mixins, and functions to improve efficiency and organization in my stylesheets.\"),\n",
    "    (\"What is your experience with front-end build tools like webpack or Gulp?\", \"I have experience working with webpack. It allows me to bundle and optimize my front-end assets, handle dependencies, and apply transformations like transpiling ES6 to ES5 and minifying code.\"),\n",
    "    (\"Tell me about your familiarity with SQL and database management.\", \"I have a strong foundation in SQL and have worked with various relational databases such as MySQL and PostgreSQL. I can write complex SQL queries, optimize database performance, and design normalized database schemas.\"),\n",
    "    (\"How do you ensure the security of web applications?\", \"I follow security best practices such as input validation, parameterized queries, and avoiding common vulnerabilities like SQL injection and cross-site scripting (XSS). I also implement user authentication and authorization mechanisms and use HTTPS for secure communication.\"),\n",
    "    (\"Tell me about a time when you had to work on a team project.\", \"In my previous job, I worked on a team project where we developed a collaborative task management application. We followed an Agile methodology, used Git for version control, and communicated regularly through stand-up meetings and collaboration tools like Slack.\"),\n",
    "    (\"How do you stay updated with the latest trends and technologies in web development?\", \"I am an avid learner and regularly keep up with industry blogs, online tutorials, and forums. I attend web development conferences and participate in online communities to share knowledge and learn from others.\"),\n",
    "    (\"Can you explain the concept of object-oriented programming (OOP)?\", \"OOP is a programming paradigm that organizes code into objects that encapsulate data and behavior. It promotes concepts like inheritance, polymorphism, and encapsulation, which help improve code reusability, modularity, and maintainability.\"),\n",
    "    (\"Tell me about a situation where you had to debug a complex issue in your code.\", \"In a previous project, I encountered a bug that caused inconsistent data rendering in certain scenarios. Through systematic debugging, I identified the root cause as an asynchronous data loading issue. I fixed it by implementing appropriate synchronization techniques.\"),\n",
    "    (\"How do you handle tight deadlines and manage your time effectively?\", \"I am skilled at prioritizing tasks and breaking them down into manageable sub-tasks. I create a timeline, set deadlines for each task, and use productivity tools like project management software or to-do lists. I communicate proactively with stakeholders if I anticipate any challenges in meeting deadlines.\"),\n",
    "    (\"Tell me about a project where you implemented responsive design principles.\", \"I worked on a project for a client where the website needed to be accessible on various devices. I used CSS media queries to adjust the layout and styles based on screen sizes. I tested the website on different devices and used tools like Chrome DevTools to ensure a smooth and consistent user experience.\"),\n",
    "    (\"How do you approach optimizing website accessibility?\", \"I follow WCAG (Web Content Accessibility Guidelines) standards to ensure accessibility. I incorporate semantic HTML, provide alternative text for images, use proper heading structure, and test the website using screen readers and other assistive technologies.\"),\n",
    "    (\"Tell me about your experience with front-end testing frameworks like Jest or Jasmine.\", \"I have experience using Jest for unit testing in my front-end projects. I write test cases to cover different scenarios and ensure the correctness of the code. I also use tools like Enzyme or React Testing Library for testing React components.\"),\n",
    "    (\"How do you handle browser compatibility issues during development?\", \"I make use of CSS feature detection libraries like Modernizr to detect browser capabilities and apply appropriate fallbacks or polyfills. I also test the website on multiple browsers and use browser developer tools to debug and fix any compatibility issues.\"),\n",
    "    (\"Tell me about your familiarity with UX/UI principles in web development.\", \"I have a good understanding of UX/UI principles and strive to create intuitive and user-friendly interfaces. I conduct user research, create wireframes and prototypes, and iterate based on user feedback. I also follow established design patterns and accessibility guidelines.\"),\n",
    "    (\"How do you ensure code quality and maintainability in your projects?\", \"I follow coding best practices such as writing modular and reusable code, using meaningful variable and function names, and documenting my code. I also perform code reviews and use tools like linters and code formatters to maintain consistent coding standards.\"),\n",
    "    (\"Tell me about your experience working with APIs and integrating third-party services.\", \"In my previous projects, I have integrated various APIs for functionalities like payment gateways, social media integration, and data retrieval. I am familiar with API documentation, authentication methods (such as OAuth), and handling API responses.\"),\n",
    "    (\"Have you worked with any CSS frameworks? If so, which ones?\", \"Yes, I have worked with popular CSS frameworks like Bootstrap and Tailwind CSS. They provide pre-designed components and utility classes that help streamline the development process and create responsive and visually appealing websites.\"),\n",
    "    (\"Tell me about a time when you had to handle a client's specific request or customization.\", \"I had a client who required a unique image gallery with custom animations and filters. I researched and implemented a third-party library that met their requirements. I communicated regularly with the client, provided updates, and ensured their satisfaction with the final result.\"),\n",
    "    (\"How do you approach optimizing a website for search engines (SEO)?\", \"I ensure that the website has proper meta tags, optimized page titles, descriptive URLs, and relevant content. I conduct keyword research, optimize image alt tags, and create a sitemap. I also monitor website performance using tools like Google Search Console.\"),\n",
    "    (\"Tell me about your experience with front-end performance optimization.\", \"In my previous projects, I have implemented techniques like lazy loading images, code minification and bundling, and optimizing network requests. I have used performance profiling tools like Chrome DevTools to identify and address bottlenecks.\"),\n",
    "    (\"How do you handle feedback and criticism on your work?\", \"I value feedback as an opportunity for growth. I actively seek feedback from colleagues and stakeholders, and I take constructive criticism positively. I use it to improve my skills and deliver better results in future projects.\"),\n",
    "    (\"Tell me about your experience working in an Agile development environment.\", \"I have worked in Agile teams where we followed Scrum or Kanban methodologies. We had regular sprint planning, daily stand-up meetings, and retrospective sessions to review and improve our processes. I am comfortable working in an iterative and collaborative development environment.\"),\n",
    "]"
   ]
  },
  {
   "cell_type": "code",
   "execution_count": null,
   "metadata": {},
   "outputs": [],
   "source": [
    "random_questions = random.sample(interview_questions, 5)"
   ]
  },
  {
   "cell_type": "code",
   "execution_count": null,
   "metadata": {},
   "outputs": [],
   "source": [
    "csv_file = open(\"interview_data.csv\", \"w\", newline=\"\")\n",
    "csv_writer = csv.writer(csv_file)\n",
    "csv_writer.writerow([\"Question\", \"Ideal Answer\", \"Candidate Answer\", \"Score\", \"Keywords Missed\"])"
   ]
  },
  {
   "cell_type": "code",
   "execution_count": null,
   "metadata": {},
   "outputs": [],
   "source": [
    "total_score = 0\n",
    "for question, ideal_answer in random_questions:\n",
    "    bot_question = question\n",
    "    user_answer = input(bot_question + \" \")\n",
    "    print(\"Thank you for your answer.\")"
   ]
  },
  {
   "cell_type": "code",
   "execution_count": null,
   "metadata": {},
   "outputs": [],
   "source": [
    "doc1 = nlp(ideal_answer)\n",
    "doc2 = nlp(user_answer)\n",
    "similarity_score = doc1.similarity(doc2)"
   ]
  },
  {
   "cell_type": "code",
   "execution_count": null,
   "metadata": {},
   "outputs": [],
   "source": [
    "important_keywords = {\"experience\": 2, \"programming skills\": 3} "
   ]
  },
  {
   "cell_type": "code",
   "execution_count": null,
   "metadata": {},
   "outputs": [],
   "source": [
    "marked_answer = user_answer\n",
    "missed_keywords = []\n",
    "keyword_score = 0"
   ]
  },
  {
   "cell_type": "code",
   "execution_count": null,
   "metadata": {},
   "outputs": [],
   "source": [
    "for keyword, weight in important_keywords.items():\n",
    "        if keyword.lower() in user_answer.lower():\n",
    "            keyword_score += weight\n",
    "        else:\n",
    "            missed_keywords.append(keyword)\n",
    "\n",
    "\n",
    "        if missed_keywords:\n",
    "            print(\"You missed the following keywords:\", \", \".join(missed_keywords))\n",
    "        else:\n",
    "            print(\"Great job! You covered all the important keywords.\")"
   ]
  },
  {
   "cell_type": "code",
   "execution_count": null,
   "metadata": {},
   "outputs": [],
   "source": [
    "\n",
    "total_score += (similarity_score * 0.5 + keyword_score)\n",
    "\n",
    "    \n",
    "csv_writer.writerow([question, ideal_answer, marked_answer, (similarity_score * 0.5 + keyword_score), \", \".join(missed_keywords)])\n",
    "\n",
    "\n",
    "csv_file.close()\n",
    "\n",
    "\n",
    "overall_score = (total_score / (len(random_questions) * 5.5)) * 100\n",
    "\n",
    "\n",
    "print(\"Your score in the interview is:\", round(overall_score, 2), \"% out of 100%.\")"
   ]
  }
 ],
 "metadata": {
  "language_info": {
   "name": "python"
  },
  "orig_nbformat": 4
 },
 "nbformat": 4,
 "nbformat_minor": 2
}
